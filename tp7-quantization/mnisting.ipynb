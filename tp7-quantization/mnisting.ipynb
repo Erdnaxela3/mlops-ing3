{
 "cells": [
  {
   "cell_type": "markdown",
   "metadata": {},
   "source": [
    "# Part 0 naive quantization"
   ]
  },
  {
   "cell_type": "markdown",
   "metadata": {},
   "source": [
    "## 0.1 Training MLP on MNIST"
   ]
  },
  {
   "cell_type": "code",
   "execution_count": 57,
   "metadata": {},
   "outputs": [],
   "source": [
    "import torch\n",
    "import torch.nn as nn\n",
    "import torch.optim as optim\n",
    "from torchvision import datasets, transforms\n",
    "from torch.utils.data import DataLoader"
   ]
  },
  {
   "cell_type": "code",
   "execution_count": 2,
   "metadata": {},
   "outputs": [],
   "source": [
    "device = torch.device(\"cuda\" if torch.cuda.is_available() else \"cpu\")\n",
    "\n",
    "input_size = 28 * 28\n",
    "hidden_size = 128\n",
    "output_size = 10\n",
    "num_epochs = 10\n",
    "batch_size = 64\n",
    "learning_rate = 1e-3"
   ]
  },
  {
   "cell_type": "code",
   "execution_count": 3,
   "metadata": {},
   "outputs": [],
   "source": [
    "train_dataset = datasets.MNIST(root='./data', train=True, transform=transforms.ToTensor(), download=True)\n",
    "test_dataset = datasets.MNIST(root='./data', train=False, transform=transforms.ToTensor(), download=True)\n",
    "\n",
    "train_loader = DataLoader(dataset=train_dataset, batch_size=batch_size, shuffle=True)\n",
    "test_loader = DataLoader(dataset=test_dataset, batch_size=batch_size, shuffle=False)"
   ]
  },
  {
   "cell_type": "code",
   "execution_count": 4,
   "metadata": {},
   "outputs": [],
   "source": [
    "class MLP(nn.Module):\n",
    "    def __init__(self, input_size, hidden_size, output_size):\n",
    "        super(MLP, self).__init__()\n",
    "        self.fc1 = nn.Linear(input_size, hidden_size)\n",
    "        self.relu = nn.ReLU()\n",
    "        self.fc2 = nn.Linear(hidden_size, output_size)\n",
    "    \n",
    "    def forward(self, x):\n",
    "        x = x.view(-1, input_size)  # Flatten the input\n",
    "        x = self.fc1(x)\n",
    "        x = self.relu(x)\n",
    "        x = self.fc2(x)\n",
    "        return x"
   ]
  },
  {
   "cell_type": "code",
   "execution_count": 5,
   "metadata": {},
   "outputs": [],
   "source": [
    "model = MLP(input_size, hidden_size, output_size).to(device)\n",
    "criterion = nn.CrossEntropyLoss()\n",
    "optimizer = optim.Adam(model.parameters(), lr=learning_rate)"
   ]
  },
  {
   "cell_type": "code",
   "execution_count": 6,
   "metadata": {},
   "outputs": [
    {
     "name": "stdout",
     "output_type": "stream",
     "text": [
      "Epoch [1/10], Loss: 0.1648\n",
      "Epoch [2/10], Loss: 0.1220\n",
      "Epoch [3/10], Loss: 0.0485\n",
      "Epoch [4/10], Loss: 0.2655\n",
      "Epoch [5/10], Loss: 0.0417\n",
      "Epoch [6/10], Loss: 0.1671\n",
      "Epoch [7/10], Loss: 0.0230\n",
      "Epoch [8/10], Loss: 0.0076\n",
      "Epoch [9/10], Loss: 0.0225\n",
      "Epoch [10/10], Loss: 0.0906\n"
     ]
    }
   ],
   "source": [
    "def train_model(model, train_loader, num_epochs):\n",
    "    for epoch in range(num_epochs):\n",
    "        model.train()\n",
    "        for batch_idx, (data, targets) in enumerate(train_loader):\n",
    "            data, targets = data.to(device), targets.to(device)\n",
    "\n",
    "            outputs = model(data)\n",
    "            loss = criterion(outputs, targets)\n",
    "\n",
    "            optimizer.zero_grad()\n",
    "            loss.backward()\n",
    "            optimizer.step()\n",
    "\n",
    "        print(f'Epoch [{epoch+1}/{num_epochs}], Loss: {loss.item():.4f}')\n",
    "train_model(model, train_loader, num_epochs)"
   ]
  },
  {
   "cell_type": "code",
   "execution_count": 7,
   "metadata": {},
   "outputs": [],
   "source": [
    "def evaluate_model(model, test_loader):\n",
    "    model.eval()\n",
    "    with torch.no_grad():\n",
    "        correct = 0\n",
    "        total = 0\n",
    "        for data, targets in test_loader:\n",
    "            data, targets = data.to(device), targets.to(device)\n",
    "            outputs = model(data)\n",
    "            _, predicted = torch.max(outputs, 1)\n",
    "            total += targets.size(0)\n",
    "            correct += (predicted == targets).sum().item()\n",
    "\n",
    "        accuracy = 100 * correct / total\n",
    "        print(f'Accuracy of the model on the test images: {accuracy:.2f}%')"
   ]
  },
  {
   "cell_type": "code",
   "execution_count": 8,
   "metadata": {},
   "outputs": [
    {
     "name": "stdout",
     "output_type": "stream",
     "text": [
      "Accuracy of the model on the test images: 97.39%\n",
      "CPU times: user 3.58 s, sys: 71.2 ms, total: 3.65 s\n",
      "Wall time: 935 ms\n"
     ]
    }
   ],
   "source": [
    "%%time\n",
    "evaluate_model(model, test_loader)"
   ]
  },
  {
   "cell_type": "markdown",
   "metadata": {},
   "source": [
    "## 0.2 Quantize the weights to int"
   ]
  },
  {
   "cell_type": "code",
   "execution_count": 9,
   "metadata": {},
   "outputs": [],
   "source": [
    "import matplotlib.pyplot as plt"
   ]
  },
  {
   "cell_type": "code",
   "execution_count": 10,
   "metadata": {},
   "outputs": [],
   "source": [
    "def quantize(model):\n",
    "    \"\"\"\n",
    "    Return a copy of the model with quantized weights\n",
    "    \"\"\"\n",
    "    quantized_model = MLP(input_size, hidden_size, output_size).to(device)\n",
    "    quantized_model.load_state_dict(model.state_dict())\n",
    "    for param in quantized_model.parameters():\n",
    "        param.data = param.data.round()\n",
    "    return quantized_model"
   ]
  },
  {
   "cell_type": "code",
   "execution_count": 11,
   "metadata": {},
   "outputs": [],
   "source": [
    "quantized_model = quantize(model)"
   ]
  },
  {
   "cell_type": "code",
   "execution_count": 12,
   "metadata": {},
   "outputs": [
    {
     "name": "stdout",
     "output_type": "stream",
     "text": [
      "Accuracy of the model on the test images: 9.86%\n",
      "CPU times: user 4.07 s, sys: 147 ms, total: 4.22 s\n",
      "Wall time: 1.54 s\n"
     ]
    }
   ],
   "source": [
    "%%time\n",
    "evaluate_model(quantized_model, test_loader)"
   ]
  },
  {
   "cell_type": "code",
   "execution_count": 13,
   "metadata": {},
   "outputs": [
    {
     "data": {
      "text/plain": [
       "Parameter containing:\n",
       "tensor([[0., -0., -0.,  ..., -0., 0., 0.],\n",
       "        [0., 0., 0.,  ..., 0., -0., -0.],\n",
       "        [-0., 0., 0.,  ..., 0., 0., 0.],\n",
       "        ...,\n",
       "        [-0., 0., -0.,  ..., -0., 0., -0.],\n",
       "        [-0., -0., -0.,  ..., 0., 0., 0.],\n",
       "        [-0., -0., 0.,  ..., 0., 0., 0.]], requires_grad=True)"
      ]
     },
     "execution_count": 13,
     "metadata": {},
     "output_type": "execute_result"
    }
   ],
   "source": [
    "quantized_model.fc1.weight"
   ]
  },
  {
   "cell_type": "code",
   "execution_count": 14,
   "metadata": {},
   "outputs": [
    {
     "data": {
      "text/plain": [
       "Parameter containing:\n",
       "tensor([[ 0.0137, -0.0107, -0.0048,  ..., -0.0173,  0.0162,  0.0036],\n",
       "        [ 0.0349,  0.0012,  0.0139,  ...,  0.0238, -0.0149, -0.0024],\n",
       "        [-0.0243,  0.0102,  0.0047,  ...,  0.0316,  0.0190,  0.0173],\n",
       "        ...,\n",
       "        [-0.0046,  0.0220, -0.0069,  ..., -0.0303,  0.0197, -0.0017],\n",
       "        [-0.0349, -0.0166, -0.0277,  ...,  0.0002,  0.0283,  0.0077],\n",
       "        [-0.0008, -0.0306,  0.0314,  ...,  0.0357,  0.0314,  0.0005]],\n",
       "       requires_grad=True)"
      ]
     },
     "execution_count": 14,
     "metadata": {},
     "output_type": "execute_result"
    }
   ],
   "source": [
    "model.fc1.weight"
   ]
  },
  {
   "cell_type": "markdown",
   "metadata": {},
   "source": [
    "## 0.3 Testing the quantized model vs the original model\n",
    "\n",
    "0.975 accuracy on the test set for the original model vs 0.159 for the quantized model"
   ]
  },
  {
   "cell_type": "markdown",
   "metadata": {},
   "source": [
    "Des valeurs entre 0 et 1, on peut perdre entièrement des informations qui tombent à 0 et donner trop d'imporance à des valeurs qui sont proches de 1."
   ]
  },
  {
   "cell_type": "markdown",
   "metadata": {},
   "source": [
    "# Part 1 - quantization statique plus réaliste"
   ]
  },
  {
   "cell_type": "markdown",
   "metadata": {},
   "source": [
    "## 1. Une unique plage pour toutes les couches"
   ]
  },
  {
   "cell_type": "code",
   "execution_count": 15,
   "metadata": {},
   "outputs": [],
   "source": [
    "def unique_layer_quantize(model):\n",
    "    \"\"\"\n",
    "    Return a copy of the model with quantized weights\n",
    "    \"\"\"\n",
    "    quantized_model = MLP(input_size, hidden_size, output_size).to(device)\n",
    "    quantized_model.load_state_dict(model.state_dict())\n",
    "\n",
    "    min_val = float('inf')\n",
    "    max_val = - float('inf')\n",
    "    \n",
    "    for param in quantized_model.parameters():\n",
    "        min_val = min(min_val, param.data.min())\n",
    "        max_val = max(max_val, param.data.max())\n",
    "\n",
    "    s = (max_val - min_val) / (2**8 - 1)\n",
    "    for param in quantized_model.parameters():\n",
    "        param.data = (param.data / s).round()\n",
    "    \n",
    "    return quantized_model"
   ]
  },
  {
   "cell_type": "code",
   "execution_count": 16,
   "metadata": {},
   "outputs": [],
   "source": [
    "unique_layer_quantized_model = unique_layer_quantize(model)"
   ]
  },
  {
   "cell_type": "code",
   "execution_count": 17,
   "metadata": {},
   "outputs": [
    {
     "name": "stdout",
     "output_type": "stream",
     "text": [
      "Accuracy of the model on the test images: 97.39%\n",
      "CPU times: user 3.92 s, sys: 113 ms, total: 4.03 s\n",
      "Wall time: 1.07 s\n"
     ]
    }
   ],
   "source": [
    "%%time\n",
    "evaluate_model(unique_layer_quantized_model, test_loader)"
   ]
  },
  {
   "cell_type": "markdown",
   "metadata": {},
   "source": [
    "## 2. Une plage par couche"
   ]
  },
  {
   "cell_type": "code",
   "execution_count": 18,
   "metadata": {},
   "outputs": [],
   "source": [
    "def per_layer_quantize(model):\n",
    "    \"\"\"\n",
    "    Return a copy of the model with quantized weights\n",
    "    \"\"\"\n",
    "    quantized_model = MLP(input_size, hidden_size, output_size).to(device)\n",
    "    quantized_model.load_state_dict(model.state_dict())\n",
    "\n",
    "    for param in quantized_model.parameters():\n",
    "        min_val = param.data.min()\n",
    "        max_val = param.data.max()\n",
    "        s = (max_val - min_val) / (2**8 - 1)\n",
    "        param.data = (param.data / s).round()\n",
    "    \n",
    "    return quantized_model"
   ]
  },
  {
   "cell_type": "code",
   "execution_count": 19,
   "metadata": {},
   "outputs": [],
   "source": [
    "per_layer_quantized_model = per_layer_quantize(model)"
   ]
  },
  {
   "cell_type": "code",
   "execution_count": 20,
   "metadata": {},
   "outputs": [
    {
     "name": "stdout",
     "output_type": "stream",
     "text": [
      "Accuracy of the model on the test images: 97.58%\n",
      "CPU times: user 4.08 s, sys: 142 ms, total: 4.22 s\n",
      "Wall time: 1.29 s\n"
     ]
    }
   ],
   "source": [
    "%%time\n",
    "evaluate_model(per_layer_quantized_model, test_loader)"
   ]
  },
  {
   "cell_type": "markdown",
   "metadata": {},
   "source": [
    "# Part 2 - quantization statique CNN"
   ]
  },
  {
   "cell_type": "code",
   "execution_count": 51,
   "metadata": {},
   "outputs": [],
   "source": [
    "import torch.nn.functional as F"
   ]
  },
  {
   "cell_type": "code",
   "execution_count": 52,
   "metadata": {},
   "outputs": [],
   "source": [
    "class MnistCNN(nn.Module):\n",
    "    def __init__(self):\n",
    "        super(MnistCNN, self).__init__()\n",
    "        self.conv1 = nn.Conv2d(1,10,kernel_size=5,stride=1)\n",
    "        self.conv2 = nn.Conv2d(10,10,kernel_size=5,stride=1)\n",
    "        self.pool = nn.MaxPool2d(kernel_size=2,stride=2) #2x2 maxpool\n",
    "        self.fc1 = nn.Linear(4*4*10,100)\n",
    "        self.fc2 = nn.Linear(100,10)\n",
    "    \n",
    "    def forward(self,x):\n",
    "        x = F.relu(self.conv1(x)) #24x24x10\n",
    "        x = self.pool(x) #12x12x10\n",
    "        x = F.relu(self.conv2(x)) #8x8x10\n",
    "        x = self.pool(x) #4x4x10    \n",
    "        x = x.view(-1, 4*4*10) #flattening\n",
    "        x = F.relu(self.fc1(x))\n",
    "        x = self.fc2(x)\n",
    "        return x"
   ]
  },
  {
   "cell_type": "code",
   "execution_count": 53,
   "metadata": {},
   "outputs": [],
   "source": [
    "def train_cnn_model(model, train_loader, num_epochs):\n",
    "    for epoch in range(num_epochs):\n",
    "        model.train()\n",
    "        for batch_idx, (data, targets) in enumerate(train_loader):\n",
    "            data, targets = data.to(device), targets.to(device)\n",
    "\n",
    "            outputs = model(data)\n",
    "            loss = criterion(outputs, targets)\n",
    "\n",
    "            optimizer.zero_grad()\n",
    "            loss.backward()\n",
    "            optimizer.step()\n",
    "\n",
    "        print(f'Epoch [{epoch+1}/{num_epochs}], Loss: {loss.item():.4f}')"
   ]
  },
  {
   "cell_type": "code",
   "execution_count": 54,
   "metadata": {},
   "outputs": [
    {
     "name": "stdout",
     "output_type": "stream",
     "text": [
      "Epoch [1/10], Loss: 2.3200\n",
      "Epoch [2/10], Loss: 2.2987\n",
      "Epoch [3/10], Loss: 2.3033\n",
      "Epoch [4/10], Loss: 2.2910\n",
      "Epoch [5/10], Loss: 2.2919\n",
      "Epoch [6/10], Loss: 2.3005\n",
      "Epoch [7/10], Loss: 2.2925\n",
      "Epoch [8/10], Loss: 2.3027\n",
      "Epoch [9/10], Loss: 2.2934\n",
      "Epoch [10/10], Loss: 2.3088\n"
     ]
    }
   ],
   "source": [
    "train_loader = DataLoader(dataset=train_dataset, batch_size=batch_size, shuffle=True)\n",
    "test_loader = DataLoader(dataset=test_dataset, batch_size=batch_size, shuffle=False)\n",
    "cnn_model = MnistCNN().to(device)\n",
    "train_cnn_model(cnn_model, train_loader, num_epochs)"
   ]
  },
  {
   "cell_type": "code",
   "execution_count": 56,
   "metadata": {},
   "outputs": [
    {
     "name": "stdout",
     "output_type": "stream",
     "text": [
      "Accuracy of the model on the test images: 10.32%\n",
      "CPU times: user 5.01 s, sys: 110 ms, total: 5.12 s\n",
      "Wall time: 1.32 s\n"
     ]
    }
   ],
   "source": [
    "%%time\n",
    "evaluate_model(cnn_model, test_loader)"
   ]
  }
 ],
 "metadata": {
  "kernelspec": {
   "display_name": "mlops",
   "language": "python",
   "name": "python3"
  },
  "language_info": {
   "codemirror_mode": {
    "name": "ipython",
    "version": 3
   },
   "file_extension": ".py",
   "mimetype": "text/x-python",
   "name": "python",
   "nbconvert_exporter": "python",
   "pygments_lexer": "ipython3",
   "version": "3.11.10"
  }
 },
 "nbformat": 4,
 "nbformat_minor": 2
}
